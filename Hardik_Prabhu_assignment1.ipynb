{
  "nbformat": 4,
  "nbformat_minor": 0,
  "metadata": {
    "colab": {
      "name": "Hardik Prabhu-assignment1.ipynb",
      "provenance": [],
      "collapsed_sections": [],
      "authorship_tag": "ABX9TyOwIlUpmTgijdKhABrG/I5u",
      "include_colab_link": true
    },
    "kernelspec": {
      "display_name": "Python 3",
      "name": "python3"
    }
  },
  "cells": [
    {
      "cell_type": "markdown",
      "metadata": {
        "id": "view-in-github",
        "colab_type": "text"
      },
      "source": [
        "<a href=\"https://colab.research.google.com/github/HardikPrabhu/Natural-Language-Processing-on-the-Covid-19-Research-papers/blob/main/Hardik_Prabhu_assignment1.ipynb\" target=\"_parent\"><img src=\"https://colab.research.google.com/assets/colab-badge.svg\" alt=\"Open In Colab\"/></a>"
      ]
    },
    {
      "cell_type": "markdown",
      "metadata": {
        "id": "oCz7cIaCcC5Y"
      },
      "source": [
        "# Collecting the json files from the google drive.\n",
        "\n"
      ]
    },
    {
      "cell_type": "code",
      "metadata": {
        "colab": {
          "base_uri": "https://localhost:8080/"
        },
        "id": "U-seWfPrLgfV",
        "outputId": "c142f183-9d69-4d43-cbf0-fb256ccc524a"
      },
      "source": [
        "#installing pakages for an external dictionary\n",
        "!apt install enchant\n",
        "!pip install pyenchant\n"
      ],
      "execution_count": null,
      "outputs": [
        {
          "output_type": "stream",
          "text": [
            "Reading package lists... Done\n",
            "Building dependency tree       \n",
            "Reading state information... Done\n",
            "enchant is already the newest version (1.6.0-11.1).\n",
            "0 upgraded, 0 newly installed, 0 to remove and 10 not upgraded.\n",
            "Requirement already satisfied: pyenchant in /usr/local/lib/python3.6/dist-packages (3.2.0)\n"
          ],
          "name": "stdout"
        }
      ]
    },
    {
      "cell_type": "code",
      "metadata": {
        "colab": {
          "base_uri": "https://localhost:8080/"
        },
        "id": "JNLQ8o-_cCIV",
        "outputId": "b89f74b3-6421-4ca2-9fda-358ff5da9b74"
      },
      "source": [
        "from google.colab import drive\n",
        "drive.mount('/content/drive')\n"
      ],
      "execution_count": null,
      "outputs": [
        {
          "output_type": "stream",
          "text": [
            "Drive already mounted at /content/drive; to attempt to forcibly remount, call drive.mount(\"/content/drive\", force_remount=True).\n"
          ],
          "name": "stdout"
        }
      ]
    },
    {
      "cell_type": "code",
      "metadata": {
        "id": "z9x1oXPPsF2c"
      },
      "source": [
        "'''Note: In previous attempts at preprocessing, the code crashed because of running out of memory.\n",
        "         The entire corpus is processed in k parts. The processed text is stored as k pickle objects on my gdrive.  ''' \n",
        "import os\n",
        "location=\"/content/drive/MyDrive/pdf_json\"  #location of json files\n",
        "save_location=\"/content/drive/MyDrive\"      #location on my gdrive\n",
        "os.chdir(location)\n",
        "data = os.listdir()\n",
        "\n"
      ],
      "execution_count": null,
      "outputs": []
    },
    {
      "cell_type": "code",
      "metadata": {
        "colab": {
          "base_uri": "https://localhost:8080/"
        },
        "id": "6q6TR34isU1E",
        "outputId": "ebe274d4-9b48-439a-81b9-7b7ae2d1831f"
      },
      "source": [
        "len(data) #total size of the dataset\n"
      ],
      "execution_count": null,
      "outputs": [
        {
          "output_type": "execute_result",
          "data": {
            "text/plain": [
              "56628"
            ]
          },
          "metadata": {
            "tags": []
          },
          "execution_count": 4
        }
      ]
    },
    {
      "cell_type": "markdown",
      "metadata": {
        "id": "oQJcyCy25bo0"
      },
      "source": [
        "# Converting JSON to text"
      ]
    },
    {
      "cell_type": "code",
      "metadata": {
        "id": "wRim8ut_s2h0"
      },
      "source": [
        "import json \n",
        "#The code was provided on moodle.  "
      ],
      "execution_count": null,
      "outputs": []
    },
    {
      "cell_type": "code",
      "metadata": {
        "id": "QP8o_2TG5aAP"
      },
      "source": [
        "def extract_text(filename,output_as_list=False):\n",
        "    '''\n",
        "    Extract the text from the file name (json file) and\n",
        "    index the content from paper_id, title, abstract and body_text fields\n",
        "    Retuns - if output_as_list = True\n",
        "                list of all the above values,\n",
        "             else\n",
        "                text of title, abstract and bodt_text\n",
        "    '''\n",
        "\n",
        "    file = open(filename)\n",
        "    body_text = \"\"\n",
        "    abstract = \"\"\n",
        "    title = \"\"\n",
        "    paper_id = \"\"\n",
        "\n",
        "    paper_content = json.load(file)\n",
        "\n",
        "    #get the paper_id\n",
        "    if 'paper_id' in paper_content:\n",
        "        paper_id = paper_content['paper_id']\n",
        "    #get the title, if available\n",
        "    if 'title' in paper_content['metadata']:\n",
        "        title = paper_content['metadata']['title']\n",
        "    #get abstract.text, if available\n",
        "    if 'abstract' in paper_content:\n",
        "        for abs in paper_content['abstract']:\n",
        "            abstract = abstract + abs['text']\n",
        "    if 'body_text' in paper_content:\n",
        "        for bt in paper_content['body_text']:\n",
        "            body_text = body_text + bt['text']\n",
        "\n",
        "\n",
        "    if output_as_list:\n",
        "            return [paper_id,title.lower(),abstract.lower(),body_text.lower()]\n",
        "    else:\n",
        "        return (title + ' ' + abstract + ' ' + body_text + ' ').lower()\n"
      ],
      "execution_count": null,
      "outputs": []
    },
    {
      "cell_type": "markdown",
      "metadata": {
        "id": "9dzq9HM1Edq0"
      },
      "source": [
        "**Removing the unecessary documents**"
      ]
    },
    {
      "cell_type": "markdown",
      "metadata": {
        "id": "Wj_t1EUJEnDi"
      },
      "source": [
        "There are some documents which are completely useless for us. Look at the one opened below."
      ]
    },
    {
      "cell_type": "code",
      "metadata": {
        "colab": {
          "base_uri": "https://localhost:8080/"
        },
        "id": "ifOkMDBDFLcb",
        "outputId": "2829628a-865b-4698-ad07-cfe2510dad79"
      },
      "source": [
        "with open(data[12145]) as f:\n",
        "  for i in f:\n",
        "    print(i)"
      ],
      "execution_count": null,
      "outputs": [
        {
          "output_type": "stream",
          "text": [
            "{\"paper_id\": \"563cdb9008f721634cd5556090aeb0eb2329532d\", \"metadata\": {\"title\": \"-4)GlcNAc\\u03b2(1-2)Mana(1-3){Gal\\u03b2(1-4)GlcNAc\\u03b2(1-2)[Gal\\u03b2(1-4)GlcNAc\\u03b2(1-2)]-Mana(1-6)}-Man\\u03b2(1-4)GlcNAc\\u03b2(1-4)\", \"authors\": []}, \"abstract\": [], \"body_text\": [{\"text\": \". Continued\", \"cite_spans\": [], \"ref_spans\": [], \"section\": \"\"}, {\"text\": \"NeuAca ( \", \"cite_spans\": [], \"ref_spans\": [], \"section\": \"Glycan # Common Name Structure\"}], \"bib_entries\": {\"BIBREF0\": {\"ref_id\": \"b0\", \"title\": \"GlcNAc\\u03b2(1-2)Mana(1-3){Gal\\u03b2(1-4)GlcNAc\\u03b2(1-2)[Gal\\u03b2(1-4)GlcNAc\\u03b2(1-2)]-Mana(1-6)}-Man\\u03b2(1-4)GlcNAc\\u03b2(1-4)GlcNAc\\u03b2-Asn\", \"authors\": [{\"first\": \"\", \"middle\": [], \"last\": \"Gal\\u03b2\", \"suffix\": \"\"}], \"year\": null, \"venue\": \"\", \"volume\": \"\", \"issn\": \"\", \"pages\": \"\", \"other_ids\": {}}, \"BIBREF1\": {\"ref_id\": \"b1\", \"title\": \"-3)Gal\\u03b2(1-4)GlcNAc\\u03b2(1-3)Gal\\u03b2(1-4)GlcNAc\\u03b2(1-3)Gal\\u03b2(1-4)GlcNAc\\u03b2(1-3)Gal\\u03b2(1\", \"authors\": [{\"first\": \"\", \"middle\": [], \"last\": \"Neuaca\", \"suffix\": \"\"}], \"year\": null, \"venue\": \"\", \"volume\": \"\", \"issn\": \"\", \"pages\": \"\", \"other_ids\": {}}, \"BIBREF2\": {\"ref_id\": \"b2\", \"title\": \"-3)Gal\\u03b2(1-4)GlcNAc\\u03b2(1-3)GalNAca-Thr-NH2\", \"authors\": [{\"first\": \"\", \"middle\": [], \"last\": \"Glcnac\\u03b2\", \"suffix\": \"\"}], \"year\": null, \"venue\": \"\", \"volume\": \"\", \"issn\": \"\", \"pages\": \"\", \"other_ids\": {}}, \"BIBREF3\": {\"ref_id\": \"b3\", \"title\": \"-3)Gal\\u03b2(1-3)GlcNAc\\u03b2(1-3)Gal\\u03b2(1-4)GlcNAc\\u03b2(1-6)\", \"authors\": [{\"first\": \"\", \"middle\": [], \"last\": \"Neuaca\", \"suffix\": \"\"}], \"year\": null, \"venue\": \"\", \"volume\": \"\", \"issn\": \"\", \"pages\": \"\", \"other_ids\": {}}, \"BIBREF4\": {\"ref_id\": \"b4\", \"title\": \"Gal\\u03b2(1-4)GlcNAc\\u03b2-ethyl-NH2\", \"authors\": [], \"year\": null, \"venue\": \"\", \"volume\": \"\", \"issn\": \"\", \"pages\": \"\", \"other_ids\": {}}, \"BIBREF5\": {\"ref_id\": \"b5\", \"title\": \"Gal\\u03b2(1-4)GlcNAc\\u03b2(1-2)Mana(1-3)[NeuAca(2-3)Gal\\u03b2(1-4)GlcNAc\\u03b2(1-2)Mana(1-6)]-Man\\u03b2(1-4)GlcNAc\\u03b2(1-4)GlcNAc\\u03b2-Asn-NH2\", \"authors\": [{\"first\": \"\", \"middle\": [], \"last\": \"Neuaca\", \"suffix\": \"\"}], \"year\": null, \"venue\": \"\", \"volume\": \"\", \"issn\": \"\", \"pages\": \"\", \"other_ids\": {}}, \"BIBREF6\": {\"ref_id\": \"b6\", \"title\": \"GlcNAc\\u03b2(1-3)Gal\\u03b2(1-4)\", \"authors\": [{\"first\": \"\", \"middle\": [], \"last\": \"Neuaca\", \"suffix\": \"\"}], \"year\": null, \"venue\": \"\", \"volume\": \"\", \"issn\": \"\", \"pages\": \"\", \"other_ids\": {}}, \"BIBREF7\": {\"ref_id\": \"b7\", \"title\": \"Gal\\u03b2(1-4)[Fuca(1-3)]-GlcNAc\\u03b2(1-2)Mana(1-3)[NeuAca(2-3)Gal\\u03b2(1-4)\", \"authors\": [{\"first\": \"\", \"middle\": [], \"last\": \"Neuaca\", \"suffix\": \"\"}], \"year\": null, \"venue\": \"\", \"volume\": \"\", \"issn\": \"\", \"pages\": \"\", \"other_ids\": {}}, \"BIBREF8\": {\"ref_id\": \"b8\", \"title\": \"-2)Mana(1-6)]-Man\\u03b2(1-4)GlcNAc\\u03b2(1-4)GlcNAc\\u03b2-(Lys-Val-Ala)Asn\", \"authors\": [{\"first\": \"\", \"middle\": [], \"last\": \"Glcnac\\u03b2\", \"suffix\": \"\"}], \"year\": null, \"venue\": \"\", \"volume\": \"\", \"issn\": \"\", \"pages\": \"\", \"other_ids\": {}}, \"BIBREF9\": {\"ref_id\": \"b9\", \"title\": \"-6)Gal\\u03b2(1-4)GlcNAc\\u03b2(1-3)Gal\\u03b2(1-4)GlcNAc\\u03b2(1-3)Gal\\u03b2(1-4)GlcNAc\\u03b2(1-3)Gal\\u03b2(1\", \"authors\": [{\"first\": \"\", \"middle\": [], \"last\": \"Neuaca\", \"suffix\": \"\"}], \"year\": null, \"venue\": \"\", \"volume\": \"\", \"issn\": \"\", \"pages\": \"\", \"other_ids\": {}}, \"BIBREF11\": {\"ref_id\": \"b11\", \"title\": \"-6)Gal\\u03b2(1-4)GlcNAc\\u03b2(1-3)Gal\\u03b2(1-4)GlcNAc\\u03b2(1-3)Gal\\u03b2(1-4)GlcNAc\\u03b2(1-3)Gal\\u03b2(1\", \"authors\": [{\"first\": \"\", \"middle\": [], \"last\": \"Neuaca\", \"suffix\": \"\"}], \"year\": null, \"venue\": \"\", \"volume\": \"\", \"issn\": \"\", \"pages\": \"\", \"other_ids\": {}}, \"BIBREF12\": {\"ref_id\": \"b12\", \"title\": \"-3)Gal\\u03b2(1-3)GalNAca-Thr-NH2\", \"authors\": [{\"first\": \"\", \"middle\": [], \"last\": \"Glcnac\\u03b2\", \"suffix\": \"\"}], \"year\": null, \"venue\": \"\", \"volume\": \"\", \"issn\": \"\", \"pages\": \"\", \"other_ids\": {}}, \"BIBREF13\": {\"ref_id\": \"b13\", \"title\": \"-6)Gal\\u03b2(1-4)GlcNAc\\u03b2(1-3)Gal\\u03b2(1-4)GlcNAc\\u03b2(1-3)Gal\\u03b2(1-4)GlcNAc\\u03b2(1-3)Gal\\u03b2(1\", \"authors\": [{\"first\": \"\", \"middle\": [], \"last\": \"Neuaca\", \"suffix\": \"\"}], \"year\": null, \"venue\": \"\", \"volume\": \"\", \"issn\": \"\", \"pages\": \"\", \"other_ids\": {}}, \"BIBREF14\": {\"ref_id\": \"b14\", \"title\": \"-3)Gal\\u03b2(1-4)GlcNAc\\u03b2(1-3)Gal\\u03b2(1-3)GalNAca-Thr-NH2\", \"authors\": [{\"first\": \"\", \"middle\": [], \"last\": \"Glcnac\\u03b2\", \"suffix\": \"\"}], \"year\": null, \"venue\": \"\", \"volume\": \"\", \"issn\": \"\", \"pages\": \"\", \"other_ids\": {}}, \"BIBREF15\": {\"ref_id\": \"b15\", \"title\": \"-6)Gal\\u03b2(1-4)GlcNAc\\u03b2(1-3)Gal\\u03b2(1-4)GlcNAc\\u03b2(1-3)Gal\\u03b2(1-4)GlcNAc\\u03b2(1-6)\", \"authors\": [{\"first\": \"\", \"middle\": [], \"last\": \"Neuaca\", \"suffix\": \"\"}], \"year\": null, \"venue\": \"\", \"volume\": \"\", \"issn\": \"\", \"pages\": \"\", \"other_ids\": {}}, \"BIBREF16\": {\"ref_id\": \"b16\", \"title\": \"-6)Gal\\u03b2(1-4)GlcNAc\\u03b2(1-3)Gal\\u03b2(1-4)GlcNAc\\u03b2(1-3)Gal\\u03b2(1-4)GlcNAc\\u03b2(1-3)Gal\\u03b2(1\", \"authors\": [{\"first\": \"\", \"middle\": [], \"last\": \"Neuaca\", \"suffix\": \"\"}], \"year\": null, \"venue\": \"\", \"volume\": \"\", \"issn\": \"\", \"pages\": \"\", \"other_ids\": {}}, \"BIBREF17\": {\"ref_id\": \"b17\", \"title\": \"-3)Gal\\u03b2(1-4)GlcNAc\\u03b2(1-3)GalNAca-Thr-NH2\", \"authors\": [{\"first\": \"\", \"middle\": [], \"last\": \"Glcnac\\u03b2\", \"suffix\": \"\"}], \"year\": null, \"venue\": \"\", \"volume\": \"\", \"issn\": \"\", \"pages\": \"\", \"other_ids\": {}}, \"BIBREF18\": {\"ref_id\": \"b18\", \"title\": \"-6)Gal\\u03b2(1-4)GlcNAc\\u03b2(1-3)Gal\\u03b2(1-4)GlcNAc\\u03b2(1-3)[NeuAca(2-6)Gal\\u03b2(1-4)GlcNAc\\u03b2(1\", \"authors\": [{\"first\": \"\", \"middle\": [], \"last\": \"Neuaca\", \"suffix\": \"\"}], \"year\": null, \"venue\": \"\", \"volume\": \"\", \"issn\": \"\", \"pages\": \"\", \"other_ids\": {}}, \"BIBREF19\": {\"ref_id\": \"b19\", \"title\": \"Gal\\u03b2(1-4)GlcNAc\\u03b2(1-6)]-GalNAca-Thr-NH2\", \"authors\": [], \"year\": null, \"venue\": \"\", \"volume\": \"\", \"issn\": \"\", \"pages\": \"\", \"other_ids\": {}}, \"BIBREF20\": {\"ref_id\": \"b20\", \"title\": \"-6)Gal\\u03b2(1-4)GlcNAc\\u03b2(1-3)Gal\\u03b2(1-4)GlcNAc\\u03b2(1-3)Gal\\u03b2(1-4)GlcNAc\\u03b2(1-3)\", \"authors\": [{\"first\": \"\", \"middle\": [], \"last\": \"Neuaca\", \"suffix\": \"\"}], \"year\": null, \"venue\": \"\", \"volume\": \"\", \"issn\": \"\", \"pages\": \"\", \"other_ids\": {}}, \"BIBREF21\": {\"ref_id\": \"b21\", \"title\": \"Gal\\u03b2(1-4)GlcNAc\\u03b2(1-3)Gal\\u03b2(1-4)GlcNAc\\u03b2(1-3)Gal\\u03b2(1-4)GlcNAc\\u03b2(1-6)]-GalNAca-Thr-NH2\", \"authors\": [], \"year\": null, \"venue\": \"\", \"volume\": \"\", \"issn\": \"\", \"pages\": \"\", \"other_ids\": {}}, \"BIBREF22\": {\"ref_id\": \"b22\", \"title\": \"-6)Gal\\u03b2(1-4)GlcNAc\\u03b2(1-3)Gal\\u03b2(1-4)GlcNAc\\u03b2(1-3)Gal\\u03b2(1-4)GlcNAc\\u03b2(1-3)Gal\\u03b2(1\", \"authors\": [{\"first\": \"\", \"middle\": [], \"last\": \"Neuaca\", \"suffix\": \"\"}], \"year\": null, \"venue\": \"\", \"volume\": \"\", \"issn\": \"\", \"pages\": \"\", \"other_ids\": {}}, \"BIBREF23\": {\"ref_id\": \"b23\", \"title\": \"-6)Gal\\u03b2(1-4)GlcNAc\\u03b2(1-3)Gal\\u03b2(1-4)GlcNAc\\u03b2(1-3)Gal\\u03b2(1-4)GlcNAc\\u03b2(1\", \"authors\": [{\"first\": \"\", \"middle\": [], \"last\": \"Glcnac\\u03b2\", \"suffix\": \"\"}], \"year\": null, \"venue\": \"\", \"volume\": \"\", \"issn\": \"\", \"pages\": \"\", \"other_ids\": {}}, \"BIBREF24\": {\"ref_id\": \"b24\", \"title\": \"Gal\\u03b2(1-4)GlcNAc\\u03b2(1-6)]-GalNAca-Thr-NH2\", \"authors\": [], \"year\": null, \"venue\": \"\", \"volume\": \"\", \"issn\": \"\", \"pages\": \"\", \"other_ids\": {}}, \"BIBREF25\": {\"ref_id\": \"b25\", \"title\": \"-6)Gal\\u03b2(1-4)GlcNAc\\u03b2(1-3)Gal\\u03b2(1-4)GlcNAc\\u03b2(1-3)Gal\\u03b2(1-4)GlcNAc\\u03b2(1-3)Gal\\u03b2(1\", \"authors\": [{\"first\": \"\", \"middle\": [], \"last\": \"Neuaca\", \"suffix\": \"\"}], \"year\": null, \"venue\": \"\", \"volume\": \"\", \"issn\": \"\", \"pages\": \"\", \"other_ids\": {}}, \"BIBREF26\": {\"ref_id\": \"b26\", \"title\": \"GlcNAc\\u03b2(1-6)GalNAca-Thr-NH2\", \"authors\": [], \"year\": null, \"venue\": \"\", \"volume\": \"\", \"issn\": \"\", \"pages\": \"\", \"other_ids\": {}}, \"BIBREF27\": {\"ref_id\": \"b27\", \"title\": \"-6)Gal\\u03b2(1-4)GlcNAc\\u03b2(1-3)Gal\\u03b2(1-4)GlcNAc\\u03b2(1-3)Gal\\u03b2(1-4)GlcNAc\\u03b2(1-3)Gal\\u03b2(1\", \"authors\": [{\"first\": \"\", \"middle\": [], \"last\": \"Neuaca\", \"suffix\": \"\"}], \"year\": null, \"venue\": \"\", \"volume\": \"\", \"issn\": \"\", \"pages\": \"\", \"other_ids\": {}}, \"BIBREF28\": {\"ref_id\": \"b28\", \"title\": \"-3)Gal\\u03b2(1-4)GlcNAc\\u03b2(1-6)GalNAca-Thr-NH2\", \"authors\": [{\"first\": \"\", \"middle\": [], \"last\": \"Glcnac\\u03b2\", \"suffix\": \"\"}], \"year\": null, \"venue\": \"\", \"volume\": \"\", \"issn\": \"\", \"pages\": \"\", \"other_ids\": {}}, \"BIBREF29\": {\"ref_id\": \"b29\", \"title\": \"-6)Gal\\u03b2(1-4)GlcNAc\\u03b2(1-3)Gal\\u03b2(1-4)GlcNAc\\u03b2(1-3)Gal\\u03b2(1-4)GlcNAc\\u03b2(1-6)\", \"authors\": [{\"first\": \"\", \"middle\": [], \"last\": \"Neuaca\", \"suffix\": \"\"}], \"year\": null, \"venue\": \"\", \"volume\": \"\", \"issn\": \"\", \"pages\": \"\", \"other_ids\": {}}, \"BIBREF30\": {\"ref_id\": \"b30\", \"title\": \"Gal\\u03b2(1-4)GlcNAc\\u03b2(1-3)Gal\\u03b2(1-4)GlcNAc\\u03b2(1-3)] Gal\\u03b2(1-4)GlcNAc\\u03b2-ethyl-NH2\", \"authors\": [], \"year\": null, \"venue\": \"\", \"volume\": \"\", \"issn\": \"\", \"pages\": \"\", \"other_ids\": {}}, \"BIBREF31\": {\"ref_id\": \"b31\", \"title\": \"-6)Gal\\u03b2(1-3)GlcNAc\\u03b2(1-3)Gal\\u03b2(1-4)GlcNAc\\u03b2(1-6)\", \"authors\": [{\"first\": \"\", \"middle\": [], \"last\": \"Neuaca\", \"suffix\": \"\"}], \"year\": null, \"venue\": \"\", \"volume\": \"\", \"issn\": \"\", \"pages\": \"\", \"other_ids\": {}}, \"BIBREF32\": {\"ref_id\": \"b32\", \"title\": \"Gal\\u03b2(1-4)GlcNAc\\u03b2-ethyl-NH2\", \"authors\": [], \"year\": null, \"venue\": \"\", \"volume\": \"\", \"issn\": \"\", \"pages\": \"\", \"other_ids\": {}}, \"BIBREF33\": {\"ref_id\": \"b33\", \"title\": \"Gal\\u03b2(1-4)GlcNAc\\u03b2(1-2)Mana(1-3)[NeuAca(2-6)Gal\\u03b2(1-4)GlcNAc\\u03b2(1-2)Mana(1-6)]-Man\\u03b2\", \"authors\": [], \"year\": null, \"venue\": \"\", \"volume\": \"\", \"issn\": \"\", \"pages\": \"\", \"other_ids\": {}}, \"BIBREF34\": {\"ref_id\": \"b34\", \"title\": \"GlcNAc\\u03b2(1-4)GlcNAc\\u03b2-Asn-NH2\", \"authors\": [], \"year\": null, \"venue\": \"\", \"volume\": \"\", \"issn\": \"\", \"pages\": \"\", \"other_ids\": {}}, \"BIBREF35\": {\"ref_id\": \"b35\", \"title\": \"-6)Gal\\u03b2(1-4)GlcNAc\\u03b2(1-2)Mana(1-3)\", \"authors\": [{\"first\": \"\", \"middle\": [], \"last\": \"Neuaca\", \"suffix\": \"\"}], \"year\": null, \"venue\": \"\", \"volume\": \"\", \"issn\": \"\", \"pages\": \"\", \"other_ids\": {}}, \"BIBREF36\": {\"ref_id\": \"b36\", \"title\": \"GlcNAc\\u03b2(1-4)GlcNAc\\u03b2-Asn-NH2\", \"authors\": [], \"year\": null, \"venue\": \"\", \"volume\": \"\", \"issn\": \"\", \"pages\": \"\", \"other_ids\": {}}, \"BIBREF37\": {\"ref_id\": \"b37\", \"title\": \"-2)Mana(1-3)[NeuAca(2-6)Gal\\u03b2(1-4)GlcNAc\\u03b2(1-2)Mana(1-6)\", \"authors\": [{\"first\": \"\", \"middle\": [], \"last\": \"Glcnac\\u03b2\", \"suffix\": \"\"}], \"year\": null, \"venue\": \"\", \"volume\": \"\", \"issn\": \"\", \"pages\": \"\", \"other_ids\": {}}, \"BIBREF39\": {\"ref_id\": \"b39\", \"title\": \"-6)Gal\\u03b2(1-4)GlcNAc\\u03b2(1-2)Mana(1-3)\", \"authors\": [{\"first\": \"\", \"middle\": [], \"last\": \"Neuaca\", \"suffix\": \"\"}], \"year\": null, \"venue\": \"\", \"volume\": \"\", \"issn\": \"\", \"pages\": \"\", \"other_ids\": {}}, \"BIBREF40\": {\"ref_id\": \"b40\", \"title\": \"Man\\u03b2(1-4)GlcNAc\\u03b2(1-4)GlcNAc\\u03b2-Asn-NH2\", \"authors\": [], \"year\": null, \"venue\": \"\", \"volume\": \"\", \"issn\": \"\", \"pages\": \"\", \"other_ids\": {}}, \"BIBREF41\": {\"ref_id\": \"b41\", \"title\": \"-6)Gal\\u03b2(1-4)GlcNAc\\u03b2(1-3)Gal\\u03b2(1-4)GlcNAc\\u03b2(1-2)Mana\", \"authors\": [{\"first\": \"\", \"middle\": [], \"last\": \"Neuaca\", \"suffix\": \"\"}], \"year\": null, \"venue\": \"\", \"volume\": \"\", \"issn\": \"\", \"pages\": \"\", \"other_ids\": {}}, \"BIBREF42\": {\"ref_id\": \"b42\", \"title\": \"Gal\\u03b2(1-4)GlcNAc\\u03b2(1-2)Mana(1-6)]-Man\\u03b2(1-4)GlcNAc\\u03b2(1-4)GlcNAc\\u03b2\", \"authors\": [{\"first\": \"\", \"middle\": [], \"last\": \"Glcnac\\u03b2\", \"suffix\": \"\"}], \"year\": null, \"venue\": \"\", \"volume\": \"\", \"issn\": \"\", \"pages\": \"\", \"other_ids\": {}}, \"BIBREF43\": {\"ref_id\": \"b43\", \"title\": \"-6)Gal\\u03b2(1-4)GlcNAc\\u03b2(1-3)Gal\\u03b2(1-4)GlcNAc\\u03b2(1-3)Gal\\u03b2(1-4)GlcNAc\\u03b2(1-2)Mana(1\", \"authors\": [{\"first\": \"\", \"middle\": [], \"last\": \"Neuaca\", \"suffix\": \"\"}], \"year\": null, \"venue\": \"\", \"volume\": \"\", \"issn\": \"\", \"pages\": \"\", \"other_ids\": {}}, \"BIBREF44\": {\"ref_id\": \"b44\", \"title\": \"-6)Gal\\u03b2(1-4)GlcNAc\\u03b2(1-3)Gal\\u03b2(1-4)GlcNAc\\u03b2(1-3)Gal\\u03b2(1-4)GlcNAc\\u03b2(1-2)\", \"authors\": [], \"year\": null, \"venue\": \"\", \"volume\": \"\", \"issn\": \"\", \"pages\": \"\", \"other_ids\": {}}, \"BIBREF45\": {\"ref_id\": \"b45\", \"title\": \"Man\\u03b2(1-4)GlcNAc\\u03b2(1-4)GlcNAc\\u03b2-Asn-NH2\", \"authors\": [], \"year\": null, \"venue\": \"\", \"volume\": \"\", \"issn\": \"\", \"pages\": \"\", \"other_ids\": {}}, \"BIBREF46\": {\"ref_id\": \"b46\", \"title\": \"-6)Gal\\u03b2(1-4)GlcNAc\\u03b2(1-3)Gal\\u03b2(1-4)GlcNAc\\u03b2(1-3)Gal\\u03b2(1-4)GlcNAc\\u03b2(1-2)Mana(1\", \"authors\": [{\"first\": \"\", \"middle\": [], \"last\": \"Neuaca\", \"suffix\": \"\"}], \"year\": null, \"venue\": \"\", \"volume\": \"\", \"issn\": \"\", \"pages\": \"\", \"other_ids\": {}}, \"BIBREF47\": {\"ref_id\": \"b47\", \"title\": \"-6)Gal\\u03b2(1-4)GlcNAc\\u03b2(1-3)Gal\\u03b2(1-4)GlcNAc\\u03b2(1-3)Gal\\u03b2(1-4)GlcNAc\\u03b2(1-2)\", \"authors\": [], \"year\": null, \"venue\": \"\", \"volume\": \"\", \"issn\": \"\", \"pages\": \"\", \"other_ids\": {}}, \"BIBREF48\": {\"ref_id\": \"b48\", \"title\": \"-4)GlcNAc\\u03b2(1-4)GlcNAc\\u03b2\", \"authors\": [{\"first\": \"\", \"middle\": [], \"last\": \"Man\\u03b2\", \"suffix\": \"\"}], \"year\": null, \"venue\": \"\", \"volume\": \"\", \"issn\": \"\", \"pages\": \"\", \"other_ids\": {}}, \"BIBREF49\": {\"ref_id\": \"b49\", \"title\": \"-6)Gal\\u03b2(1-4)GlcNAc\\u03b2(1-3)Gal\\u03b2(1-4)GlcNAc\\u03b2(1-3)Gal\\u03b2(1-4)GlcNAc\\u03b2(1-3)Gal\\u03b2(1\", \"authors\": [{\"first\": \"\", \"middle\": [], \"last\": \"Neuaca\", \"suffix\": \"\"}], \"year\": null, \"venue\": \"\", \"volume\": \"\", \"issn\": \"\", \"pages\": \"\", \"other_ids\": {}}, \"BIBREF50\": {\"ref_id\": \"b50\", \"title\": \"GlcNAc\\u03b2(1-2)Mana(1-3)[NeuAc\\u03b1(2-6)Gal\\u03b2(1-4)GlcNAc\\u03b2(1-3)Gal\\u03b2(1-4)GlcNAc\\u03b2(1-3)Gal\\u03b2(1\", \"authors\": [], \"year\": null, \"venue\": \"\", \"volume\": \"\", \"issn\": \"\", \"pages\": \"\", \"other_ids\": {}}, \"BIBREF51\": {\"ref_id\": \"b51\", \"title\": \"Gal\\u03b2(1-4)GlcNAc\\u03b2(1-2)Mana(1-6)]-Man\\u03b2(1-4)GlcNAc\\u03b2(1-4)GlcNAc\\u03b2\", \"authors\": [{\"first\": \"\", \"middle\": [], \"last\": \"Glcnac\\u03b2\", \"suffix\": \"\"}], \"year\": null, \"venue\": \"\", \"volume\": \"\", \"issn\": \"\", \"pages\": \"\", \"other_ids\": {}}, \"BIBREF52\": {\"ref_id\": \"b52\", \"title\": \"-6)Gal\\u03b2(1-4)GlcNAc\\u03b2(1-3)Gal\\u03b2(1-4)GlcNAc\\u03b2(1-3)Gal\\u03b2(1-4)GlcNAc\\u03b2(1-3)Gal\\u03b2(1\", \"authors\": [{\"first\": \"\", \"middle\": [], \"last\": \"Neuaca\", \"suffix\": \"\"}], \"year\": null, \"venue\": \"\", \"volume\": \"\", \"issn\": \"\", \"pages\": \"\", \"other_ids\": {}}, \"BIBREF53\": {\"ref_id\": \"b53\", \"title\": \"-3)Gal\\u03b2(1-4)GlcNAc\\u03b2(1-2)Mana(1-3)[NeuAca(2-6)Gal\\u03b2(1-4)GlcNAc\\u03b2(1-3)Gal\\u03b2(1\", \"authors\": [{\"first\": \"\", \"middle\": [], \"last\": \"Glcnac\\u03b2\", \"suffix\": \"\"}], \"year\": null, \"venue\": \"\", \"volume\": \"\", \"issn\": \"\", \"pages\": \"\", \"other_ids\": {}}, \"BIBREF54\": {\"ref_id\": \"b54\", \"title\": \"-3)Gal\\u03b2(1-4)GlcNAc\\u03b2(1-3)Gal\\u03b2(1-4)GlcNAc\\u03b2(1-3)Gal\\u03b2(1-4)GlcNAc\\u03b2(1-2)\", \"authors\": [{\"first\": \"\", \"middle\": [], \"last\": \"Glcnac\\u03b2\", \"suffix\": \"\"}], \"year\": null, \"venue\": \"\", \"volume\": \"\", \"issn\": \"\", \"pages\": \"\", \"other_ids\": {}}, \"BIBREF55\": {\"ref_id\": \"b55\", \"title\": \"-4)GlcNAc\\u03b2(1-4)GlcNAc\\u03b2\", \"authors\": [{\"first\": \"\", \"middle\": [], \"last\": \"Man\\u03b2\", \"suffix\": \"\"}], \"year\": null, \"venue\": \"\", \"volume\": \"\", \"issn\": \"\", \"pages\": \"\", \"other_ids\": {}}, \"BIBREF56\": {\"ref_id\": \"b56\", \"title\": \"-6)Gal\\u03b2(1-4)GlcNAc\\u03b2(1-3)Gal\\u03b2(1-4)GlcNAc\\u03b2(1-2)Mana\", \"authors\": [{\"first\": \"\", \"middle\": [], \"last\": \"Neuaca\", \"suffix\": \"\"}], \"year\": null, \"venue\": \"\", \"volume\": \"\", \"issn\": \"\", \"pages\": \"\", \"other_ids\": {}}, \"BIBREF57\": {\"ref_id\": \"b57\", \"title\": \"Gal\\u03b2(1-4)GlcNAc\\u03b2(1-2)Mana(1-6)]-Man\\u03b2(1-4)GlcNAc\\u03b2(1-4)\", \"authors\": [{\"first\": \"\", \"middle\": [], \"last\": \"Glcnac\\u03b2\", \"suffix\": \"\"}], \"year\": null, \"venue\": \"GlcNAc\\u03b2\", \"volume\": \"\", \"issn\": \"\", \"pages\": \"\", \"other_ids\": {}}, \"BIBREF58\": {\"ref_id\": \"b58\", \"title\": \"-6)Gal\\u03b2(1-4)GlcNAc\\u03b2(1-3)Gal\\u03b2(1-4)GlcNAc\\u03b2(1-3)Gal\\u03b2(1-4)GlcNAc\\u03b2(1-2)Mana(1\", \"authors\": [{\"first\": \"\", \"middle\": [], \"last\": \"Neuaca\", \"suffix\": \"\"}], \"year\": null, \"venue\": \"\", \"volume\": \"\", \"issn\": \"\", \"pages\": \"\", \"other_ids\": {}}, \"BIBREF59\": {\"ref_id\": \"b59\", \"title\": \"-6)Gal\\u03b2(1-4)GlcNAc\\u03b2(1-3)Gal\\u03b2(1-4)GlcNAc\\u03b2(1-3)Gal\\u03b2(1-4)GlcNAc\\u03b2(1-2)\", \"authors\": [], \"year\": null, \"venue\": \"\", \"volume\": \"\", \"issn\": \"\", \"pages\": \"\", \"other_ids\": {}}, \"BIBREF60\": {\"ref_id\": \"b60\", \"title\": \"-4)GlcNAc\\u03b2(1-4)\", \"authors\": [{\"first\": \"\", \"middle\": [], \"last\": \"Man\\u03b2\", \"suffix\": \"\"}], \"year\": null, \"venue\": \"\", \"volume\": \"\", \"issn\": \"\", \"pages\": \"\", \"other_ids\": {}}, \"BIBREF61\": {\"ref_id\": \"b61\", \"title\": \"-6)Gal\\u03b2(1-4)GlcNAc\\u03b2(1-3)Gal\\u03b2(1-4)GlcNAc\\u03b2(1-2)Mana(1-3){NeuAca(2-6)Gal\\u03b2(1\", \"authors\": [{\"first\": \"\", \"middle\": [], \"last\": \"Neuaca\", \"suffix\": \"\"}], \"year\": null, \"venue\": \"\", \"volume\": \"\", \"issn\": \"\", \"pages\": \"\", \"other_ids\": {}}, \"BIBREF62\": {\"ref_id\": \"b62\", \"title\": \"-3)Gal\\u03b2(1-4)GlcNAc\\u03b2(1-2)[NeuAca(2-6)Gal\\u03b2(1-4)GlcNAc\\u03b2(1-3)Gal\\u03b2(1-4)GlcNAc\\u03b2(1\", \"authors\": [{\"first\": \"\", \"middle\": [], \"last\": \"Glcnac\\u03b2\", \"suffix\": \"\"}], \"year\": null, \"venue\": \"\", \"volume\": \"\", \"issn\": \"\", \"pages\": \"\", \"other_ids\": {}}, \"BIBREF63\": {\"ref_id\": \"b63\", \"title\": \"}-Man\\u03b2(1-4)GlcNAc\\u03b2(1-4)GlcNAc\\u03b2\", \"authors\": [{\"first\": \"Mana\", \"middle\": [], \"last\": \"\", \"suffix\": \"\"}], \"year\": null, \"venue\": \"\", \"volume\": \"\", \"issn\": \"\", \"pages\": \"\", \"other_ids\": {}}, \"BIBREF64\": {\"ref_id\": \"b64\", \"title\": \"-6)Gal\\u03b2(1-4)GlcNAc\\u03b2(1-3)Gal\\u03b2(1-4)GlcNAc\\u03b2(1-3)Gal\\u03b2(1-4)GlcNAc\\u03b2(1-2)Mana(1\", \"authors\": [{\"first\": \"\", \"middle\": [], \"last\": \"Neuaca\", \"suffix\": \"\"}], \"year\": null, \"venue\": \"\", \"volume\": \"\", \"issn\": \"\", \"pages\": \"\", \"other_ids\": {}}, \"BIBREF65\": {\"ref_id\": \"b65\", \"title\": \"-6)Gal\\u03b2(1-4)GlcNAc\\u03b2(1-3)Gal\\u03b2(1-4)GlcNAc\\u03b2(1-3)Gal\\u03b2(1-4)GlcNAc\\u03b2(1-2)\", \"authors\": [], \"year\": null, \"venue\": \"\", \"volume\": \"\", \"issn\": \"\", \"pages\": \"\", \"other_ids\": {}}, \"BIBREF66\": {\"ref_id\": \"b66\", \"title\": \"Gal\\u03b2(1-4)GlcNAc\\u03b2(1-3)Gal\\u03b2(1-4)GlcNAc\\u03b2(1-3)Gal\\u03b2(1-4)GlcNAc\\u03b2(1-6)Mana(1-6)]}-Man\\u03b2\", \"authors\": [], \"year\": null, \"venue\": \"\", \"volume\": \"\", \"issn\": \"\", \"pages\": \"\", \"other_ids\": {}}, \"BIBREF67\": {\"ref_id\": \"b67\", \"title\": \"GlcNAc\\u03b2(1-4)GlcNAc\\u03b2-(Lys-Val-Ala)Asn-Lys-Thr-NH2\", \"authors\": [], \"year\": null, \"venue\": \"\", \"volume\": \"\", \"issn\": \"\", \"pages\": \"\", \"other_ids\": {}}, \"BIBREF68\": {\"ref_id\": \"b68\", \"title\": \"-6)Gal\\u03b2(1-4)GlcNAc\\u03b2(1-3)Gal\\u03b2(1-4)GlcNAc\\u03b2(1-3)Gal\\u03b2(1-4)GlcNAc\\u03b2(1-3)Gal\\u03b2(1\", \"authors\": [{\"first\": \"\", \"middle\": [], \"last\": \"Neuaca\", \"suffix\": \"\"}], \"year\": null, \"venue\": \"\", \"volume\": \"\", \"issn\": \"\", \"pages\": \"\", \"other_ids\": {}}, \"BIBREF69\": {\"ref_id\": \"b69\", \"title\": \"GlcNAc\\u03b2(1-2)Mana(1-3){NeuAc\\u03b1(2-6)Gal\\u03b2(1-4)GlcNAc\\u03b2(1-3)Gal\\u03b2(1-4)GlcNAc\\u03b2(1-3)Gal\\u03b2(1\", \"authors\": [], \"year\": null, \"venue\": \"\", \"volume\": \"\", \"issn\": \"\", \"pages\": \"\", \"other_ids\": {}}, \"BIBREF70\": {\"ref_id\": \"b70\", \"title\": \"-3)Gal\\u03b2(1-4)GlcNAc\\u03b2(1-2)[NeuAc\\u03b1(2-6)Gal\\u03b2(1-4)GlcNAc\\u03b2(1-3)Gal\\u03b2(1-4)GlcNAc\\u03b2(1\", \"authors\": [{\"first\": \"\", \"middle\": [], \"last\": \"Glcnac\\u03b2\", \"suffix\": \"\"}], \"year\": null, \"venue\": \"\", \"volume\": \"\", \"issn\": \"\", \"pages\": \"\", \"other_ids\": {}}, \"BIBREF71\": {\"ref_id\": \"b71\", \"title\": \"Gal\\u03b2(1-4)GlcNAc\\u03b2(1-3)Gal\\u03b2(1-4)GlcNAc\\u03b2(1-6)Mana(1-6)]}-Man\\u03b2(1-4)GlcNAc\\u03b2(1-4)GlcNAc\\u03b2\", \"authors\": [], \"year\": null, \"venue\": \"\", \"volume\": \"\", \"issn\": \"\", \"pages\": \"\", \"other_ids\": {}}, \"BIBREF72\": {\"ref_id\": \"b72\", \"title\": \"-6)Gal\\u03b2(1-4)GlcNAc\\u03b2(1-3)Gal\\u03b2(1-4)GlcNAc\\u03b2(1-2)Mana(1-3){NeuAca(2-6)Gal\\u03b2(1\", \"authors\": [{\"first\": \"\", \"middle\": [], \"last\": \"Neuaca\", \"suffix\": \"\"}], \"year\": null, \"venue\": \"\", \"volume\": \"\", \"issn\": \"\", \"pages\": \"\", \"other_ids\": {}}, \"BIBREF73\": {\"ref_id\": \"b73\", \"title\": \"-3)Gal\\u03b2(1-4)GlcNAc\\u03b2(1-2)[NeuAca(2-6)Gal\\u03b2(1-4)GlcNAc\\u03b2(1-3)Gal\\u03b2(1-4)GlcNAc\\u03b2(1\", \"authors\": [{\"first\": \"\", \"middle\": [], \"last\": \"Glcnac\\u03b2\", \"suffix\": \"\"}], \"year\": null, \"venue\": \"\", \"volume\": \"\", \"issn\": \"\", \"pages\": \"\", \"other_ids\": {}}, \"BIBREF74\": {\"ref_id\": \"b74\", \"title\": \"}-Man\\u03b2(1-4)GlcNAc\\u03b2(1-4)\", \"authors\": [{\"first\": \"Mana\", \"middle\": [], \"last\": \"\", \"suffix\": \"\"}], \"year\": null, \"venue\": \"\", \"volume\": \"\", \"issn\": \"\", \"pages\": \"\", \"other_ids\": {}}, \"BIBREF75\": {\"ref_id\": \"b75\", \"title\": \"-6)Gal\\u03b2(1-4)GlcNAc\\u03b2(1-3)Gal\\u03b2(1-4)GlcNAc\\u03b2(1-3)Gal\\u03b2(1-4)GlcNAc\\u03b2(1-2)Mana(1\", \"authors\": [{\"first\": \"\", \"middle\": [], \"last\": \"Neuaca\", \"suffix\": \"\"}], \"year\": null, \"venue\": \"\", \"volume\": \"\", \"issn\": \"\", \"pages\": \"\", \"other_ids\": {}}, \"BIBREF76\": {\"ref_id\": \"b76\", \"title\": \"-6)Gal\\u03b2(1-4)GlcNAc\\u03b2(1-3)Gal\\u03b2(1-4)GlcNAc\\u03b2(1-3)Gal\\u03b2(1-4)GlcNAc\\u03b2(1-2)\", \"authors\": [], \"year\": null, \"venue\": \"\", \"volume\": \"\", \"issn\": \"\", \"pages\": \"\", \"other_ids\": {}}, \"BIBREF77\": {\"ref_id\": \"b77\", \"title\": \"Gal\\u03b2(1-4)GlcNAc\\u03b2(1-3)Gal\\u03b2(1-4)GlcNAc\\u03b2(1-3)Gal\\u03b2(1-4)GlcNAc\\u03b2(1-6)Man\\u03b1(1-6)]}-Man\\u03b2\", \"authors\": [], \"year\": null, \"venue\": \"\", \"volume\": \"\", \"issn\": \"\", \"pages\": \"\", \"other_ids\": {}}, \"BIBREF78\": {\"ref_id\": \"b78\", \"title\": \"GlcNAc\\u03b2\", \"authors\": [{\"first\": \"\", \"middle\": [], \"last\": \"Glcnac\\u03b2\", \"suffix\": \"\"}], \"year\": null, \"venue\": \"\", \"volume\": \"\", \"issn\": \"\", \"pages\": \"\", \"other_ids\": {}}}, \"ref_entries\": {\"FIGREF0\": {\"text\": \"(2-3)Gal\\u03b2(1-4)GlcNAc\\u03b2(1-3)Gal\\u03b2(1-4)GlcNAc\\u03b2(1-3)Gal\\u03b2(1-3)GalNAca-Thr-NH2\", \"latex\": null, \"type\": \"figure\"}, \"FIGREF2\": {\"text\": \"-(Lys-Val-Ala)Asn-Lys-Thr-NH2\", \"latex\": null, \"type\": \"figure\"}, \"TABREF0\": {\"text\": \"Continued\", \"latex\": null, \"type\": \"table\"}, \"TABREF1\": {\"text\": \"Continued\", \"latex\": null, \"type\": \"table\"}, \"TABREF2\": {\"text\": \"\", \"latex\": null, \"type\": \"table\"}, \"TABREF3\": {\"text\": \"Continued\", \"latex\": null, \"type\": \"table\"}, \"TABREF4\": {\"text\": \"Table S1. Glycans on the custom glycan array (Fig. 1) 10 non-sialylated\\n69 2,3-linked Sia\\n56 2,6-linked Sia\\n135 total\\nGlycan # Common Name Structure\", \"latex\": null, \"type\": \"table\", \"html\": \"<html><body><table><tr><td>1 </td><td>Gal\\u03b2(1-4)GlcNAc\\u03b2-ethyl-NH2\\n</td></tr><tr><td>2 </td><td>Gal\\u03b2(1-4)GlcNAc\\u03b2(1-3)Gal\\u03b2(1-3)GalNAc\\u2022-Thr-NH2\\n</td></tr><tr><td>3 </td><td>Gal\\u03b2(1-4)GlcNAc\\u03b2(1-6)[Gal\\u03b2(1-3)]-GalNAc\\u2022-Thr-NH2\\n</td></tr><tr><td>4 </td><td>Gal\\u03b2(1-4)GlcNAc\\u03b2(1-3)GalNAc\\u2022-Thr-NH2\\n</td></tr><tr><td>5 </td><td>Gal\\u03b2(1-4)GlcNAc\\u03b2(1-3)[Gal\\u03b2(1-4)GlcNAc\\u03b2(1-6)]-GalNAc\\u2022-Thr-NH2\\n</td></tr><tr><td>6 </td><td>Gal\\u03b2(1-4)GlcNAc\\u03b2(1-6)GalNAc\\u2022-Thr-NH2\\n</td></tr><tr><td>7 </td><td>Gal\\u03b2(1-4)GlcNAc\\u03b2(1-2)Man\\u2022 (1-3)[Gal\\u03b2(1-4)GlcNAc\\u03b2(1-2)Man\\u2022(1-6)]-Man\\u03b2(1-4)GlcNAc\\u03b2(1-4)GlcNAc\\u03b2-Asn-NH2\\n</td></tr><tr><td>8 </td><td>Gal\\u03b2(1-4)GlcNAc\\u03b2(1-2)Man\\u2022(1-3)[Gal\\u03b2(1-4)GlcNAc\\u03b2(1-2)Man\\u2022(1-6)]-Man\\u03b2(1-4)GlcNAc\\u03b2(1-4)[Fuc\\u2022(1-6)]-GlcNAc\\u03b2-Asn-Ser-Thr-NH2\\n</td></tr><tr><td>9 </td><td>Gal\\u03b2(1-4)GlcNAc\\u03b2(1-2)Man\\u2022(1-3){Gal\\u03b2(1-4)GlcNAc\\u03b2(1-2)[Gal\\u03b2(1-4)GlcNAc\\u03b2(1-2)]-Man\\u2022(1-6)}-Man\\u03b2(1-4)GlcNAc\\u03b2(1-4)GlcNAc\\u03b2-Asn-Lys-NH2\\n</td></tr><tr><td>10 </td><td>Gal\\u03b2(1-4)GlcNAc\\u03b2(1-2)Man\\u2022(1-3){Gal\\u03b2(1-4)GlcNAc\\u03b2(1-2)[Gal\\u03b2(1-4)GlcNAc\\u03b2(1-2)]-Man\\u2022(1-6)}-Man\\u03b2(1-4)GlcNAc\\u03b2(1-4)[Fuc\\u2022(1-6)]-GlcNAc\\u03b2-(Lys-Val-Ala)Asn-Lys-Thr-NH2\\n</td></tr><tr><td>11 </td><td>NeuAc\\u2022(2-3)Gal\\u03b2(1-4)6-O-sulfo-GlcNAc\\u03b2-propyl-NH2\\n</td></tr><tr><td>12 </td><td>NeuAc\\u2022(2-3)Gal\\u03b2(1-4)[Fuc\\u2022(1-3)]-6-O-sulfo-GlcNAc\\u03b2-propyl-NH2\\n</td></tr></table></body></html>\"}}, \"back_matter\": []}\n"
          ],
          "name": "stdout"
        }
      ]
    },
    {
      "cell_type": "markdown",
      "metadata": {
        "id": "usae6VLFFK15"
      },
      "source": [
        "After extracting, we end up with some gibberish text, which is shown below."
      ]
    },
    {
      "cell_type": "code",
      "metadata": {
        "colab": {
          "base_uri": "https://localhost:8080/",
          "height": 35
        },
        "id": "yoNOq4J69z2r",
        "outputId": "c0db6ae8-e62f-4485-8045-a2ad209a70cf"
      },
      "source": [
        "extract_text(data[12145])"
      ],
      "execution_count": null,
      "outputs": [
        {
          "output_type": "execute_result",
          "data": {
            "application/vnd.google.colaboratory.intrinsic+json": {
              "type": "string"
            },
            "text/plain": [
              "'-4)glcnacβ(1-2)mana(1-3){galβ(1-4)glcnacβ(1-2)[galβ(1-4)glcnacβ(1-2)]-mana(1-6)}-manβ(1-4)glcnacβ(1-4)  . continuedneuaca (  '"
            ]
          },
          "metadata": {
            "tags": []
          },
          "execution_count": 10
        }
      ]
    },
    {
      "cell_type": "markdown",
      "metadata": {
        "id": "GoD17NKrGF_Q"
      },
      "source": [
        "Such texts after preprocessing will give us sentences as a list of words that arent English interpretable. At first, I attempted to filter out such words using an external dictionary provided by enchant. The problem was that the dictionary also failed to recognize a lot of scientific terms. Even \"covid\" was not recognized by it. We are going to lose a lot of valuable content this way. We can still use the dictionary for our purpose of identifying such documents. The documents which are useful to us are written in the English language, so the amount of the dictionary recognizable words will be higher than the scientific words. To identify such documents that produce the undesired output, we could look at the ratio of the dictionary recognizable words to the total words present in that document.\n",
        "\n",
        "\n",
        "**We will remove the documents which has the ratio of recognizable/total words below 0.4.**"
      ]
    },
    {
      "cell_type": "markdown",
      "metadata": {
        "id": "AvH2biW8Jk7d"
      },
      "source": [
        "There are also some documents that after preprocessing give zero words. Such documents will be also taken care of."
      ]
    },
    {
      "cell_type": "markdown",
      "metadata": {
        "id": "YqZvlwNTKNkk"
      },
      "source": [
        "# **Preprocessing**\n",
        "\n",
        "\n"
      ]
    },
    {
      "cell_type": "code",
      "metadata": {
        "colab": {
          "base_uri": "https://localhost:8080/"
        },
        "id": "jWVf0hpXJdrX",
        "outputId": "295759c9-b760-4cdb-aabb-64bcbac5ecc9"
      },
      "source": [
        "#importing all the neccesary\n",
        "import nltk\n",
        "nltk.download('punkt')\n",
        "import enchant\n",
        "english=enchant.Dict(\"en_UK\")"
      ],
      "execution_count": null,
      "outputs": [
        {
          "output_type": "stream",
          "text": [
            "[nltk_data] Downloading package punkt to /root/nltk_data...\n",
            "[nltk_data]   Package punkt is already up-to-date!\n"
          ],
          "name": "stdout"
        }
      ]
    },
    {
      "cell_type": "code",
      "metadata": {
        "id": "tT7fFdK2MFHB"
      },
      "source": [
        "#preprocessing code\n",
        "\n",
        "def preprocess(document):\n",
        " sents = nltk.sent_tokenize(document)\n",
        " #remove puctuations, parentehsis, non alphabetic characters\n",
        " from nltk.tokenize import RegexpTokenizer\n",
        " tokenizer = RegexpTokenizer(r'\\w+')\n",
        " unique = []  #maintain a list of unique words\n",
        " count = 0   #counts for total words\n",
        " eng_count=0  #counts for dictionary recognizable words\n",
        " for i in range(len(sents)):\n",
        "    sents[i]=tokenizer.tokenize(sents[i])\n",
        "    sents[i] = [word.lower() for word in sents[i] if word.isalpha()]\n",
        "    for word in sents[i]:\n",
        "        count=count+1\n",
        "        if (english.check(word) == True):\n",
        "            eng_count=eng_count+1\n",
        "        if word not in unique:\n",
        "            unique.append(word)\n",
        " if count==0:\n",
        "         ratio=\"error\"   \n",
        " else:\n",
        "         ratio = eng_count/count                   #taking care of zerodivison error and empty texts\n",
        "\n",
        " #returning 0:list of sentences (list of list of tokens), 1:total sentences, 2:cont for total words, 3:unique words, 4:ratio of dict recognizable words, 5:vocabulary\n",
        " return (sents, len(sents), count,len(unique),ratio,unique)\n"
      ],
      "execution_count": null,
      "outputs": []
    },
    {
      "cell_type": "markdown",
      "metadata": {
        "id": "mjY8yb3RMdIf"
      },
      "source": [
        "After extracting the texts from the JSON files, a few preprocessing steps are implemented which would aid us in creating the language model in the 2nd assignment.First, we would use a sentence tokenizer to convert a particular document to a list of sentences. Each sentence is further reduced to a bag of words(list of tokens) by using the word tokenizer. After doing this, the selected document gets converted into a list of list of words. The tokenizer used for converting the sentence into a list of tokens takes care of parentheses, punctuations, and whitespaces. For example, consider the following sentences; \"The first      sentence, with a comma. And here is a hypen-added word(token)\", after the tokenization they are converted into [['The', 'first', 'sentence', 'with', 'a', 'comma'], ['And', 'here', 'is', 'a', 'hypen', 'added', 'word', 'token']]. The numeric values are also removed. Lowercasing was already implemented in the extraction code. The stopwords are not removed as they might be useful to make a good n-gram model."
      ]
    },
    {
      "cell_type": "code",
      "metadata": {
        "id": "GCjeMdNLP-RF"
      },
      "source": [
        "#preprocessing the corpus\n",
        "\n",
        "vocab=set()     # a set to maintain the vocabulary \n",
        "Corpus=[]    # a list to store all the preprocessed text\n",
        "x=[]         # a list to maintain total word counts for all the documents\n",
        "y=[]         # a list to maintain vocab size for all the documents             x,y are required for the heaps law plot\n",
        "sentences=[] # a list to maintain the number of sentences per documents\n",
        " \n",
        "def insert(z):      # A code to filter out bad documents as we iterate through the corpus\n",
        "    global vocab\n",
        "    if z[4]!=\"error\" and z[4]>0.4:\n",
        "        Corpus.append(z[0])\n",
        "        x.append(z[2])\n",
        "        y.append(z[3])\n",
        "        vocab=vocab.union(set(z[5]))\n",
        "        sentences.append(z[1])\n"
      ],
      "execution_count": null,
      "outputs": []
    },
    {
      "cell_type": "code",
      "metadata": {
        "colab": {
          "base_uri": "https://localhost:8080/"
        },
        "id": "SAN7LOTjQSUK",
        "outputId": "0eee3c15-5614-415d-d981-ba1d6a8f7a80"
      },
      "source": [
        "import pickle #to store the corpus(after preprocessing) as a pickle object \n",
        "#number of partitions\n",
        "k=16\n",
        "for m in range(k):\n",
        " for i in data[(m)*len(data)//k:(m+1)*len(data)//k]:  #iterating through the partition of corpus for preprocessing text\n",
        "    insert(preprocess(extract_text(i)))\n",
        " \n",
        " os.chdir(save_location)\n",
        " #saving the preprocessed text as a pickle object\n",
        " with open(\"nlp-\"+str(m), \"wb\") as f:\n",
        "      pickle.dump(Corpus, f)\n",
        " with open(\"vocab-\"+str(m), \"wb\") as f:\n",
        "      pickle.dump(vocab, f)     \n",
        " #deleting the corpus and vocab from memory\n",
        " Corpus=[] \n",
        " vocab=set()\n",
        " #go back to json directiory\n",
        " os.chdir(location)    \n",
        " print(str((m+1)*len(data)//k)+ \"documents done\")\n"
      ],
      "execution_count": null,
      "outputs": [
        {
          "output_type": "stream",
          "text": [
            "3539documents done\n",
            "7078documents done\n",
            "10617documents done\n",
            "14157documents done\n",
            "17696documents done\n",
            "21235documents done\n",
            "24774documents done\n",
            "28314documents done\n",
            "31853documents done\n",
            "35392documents done\n",
            "38931documents done\n",
            "42471documents done\n",
            "46010documents done\n",
            "49549documents done\n",
            "53088documents done\n",
            "56628documents done\n"
          ],
          "name": "stdout"
        }
      ]
    },
    {
      "cell_type": "markdown",
      "metadata": {
        "id": "8_WjOj9DDDiP"
      },
      "source": [
        "The corpus that we get after preprocessing is a list of list of tokens. We save the list as pickle object and we will later unpickle it for the assingmnent-2.  "
      ]
    },
    {
      "cell_type": "markdown",
      "metadata": {
        "id": "IUaU4aorSOcc"
      },
      "source": [
        "# Heaps law"
      ]
    },
    {
      "cell_type": "markdown",
      "metadata": {
        "id": "rH92zZogSUZX"
      },
      "source": [
        "log V= log k + b log n\n",
        "\n",
        "Where\n",
        " V:size of vocabulary\n",
        " n:total word count\n",
        "      "
      ]
    },
    {
      "cell_type": "code",
      "metadata": {
        "id": "_GaC8i0vTu1h",
        "colab": {
          "base_uri": "https://localhost:8080/",
          "height": 297
        },
        "outputId": "19d9a496-f222-4c75-fec1-f10af52cdbfa"
      },
      "source": [
        "import numpy as np\n",
        "from matplotlib import pyplot as plt\n",
        "x=np.log(x)\n",
        "y=np.log(y)\n",
        "x=x.reshape(-1,1) #reshaping for fitting regression\n",
        "y=y.reshape(-1,1)\n",
        "\n",
        "from sklearn.linear_model import LinearRegression \n",
        "model = LinearRegression()\n",
        "model.fit(x, y)\n",
        "b=model.coef_\n",
        "log_k=model.intercept_\n",
        "yhat=model.predict(x)\n",
        "\n",
        "#plotting the graph\n",
        "#in logorithmic scale\n",
        "plt.scatter(x,y)\n",
        "plt.xlabel('Total words (log)')\n",
        "plt.ylabel('Vocabulary size (log)')\n",
        "plt.plot(x,yhat,color='r')\n",
        "\n",
        "#For each of the documents selected in the corpus, we plot the total words vs vocabulary plot in log scale. \n"
      ],
      "execution_count": null,
      "outputs": [
        {
          "output_type": "execute_result",
          "data": {
            "text/plain": [
              "[<matplotlib.lines.Line2D at 0x7efd73c826a0>]"
            ]
          },
          "metadata": {
            "tags": []
          },
          "execution_count": 13
        },
        {
          "output_type": "display_data",
          "data": {
            "image/png": "[encoded data removed]",
            "text/plain": [
              "<Figure size 432x288 with 1 Axes>"
            ]
          },
          "metadata": {
            "tags": [],
            "needs_background": "light"
          }
        }
      ]
    },
    {
      "cell_type": "code",
      "metadata": {
        "id": "dRaOgpZuZYRZ",
        "colab": {
          "base_uri": "https://localhost:8080/"
        },
        "outputId": "76492254-4115-4a54-ccce-9d4d54af3e2d"
      },
      "source": [
        "print(\"K =\"+str(np.exp(log_k)))\n",
        "print(\"Beta(b)=\"+str(b))"
      ],
      "execution_count": null,
      "outputs": [
        {
          "output_type": "stream",
          "text": [
            "K =[3.74386832]\n",
            "Beta(b)=[[0.6706541]]\n"
          ],
          "name": "stdout"
        }
      ]
    },
    {
      "cell_type": "markdown",
      "metadata": {
        "id": "irgO1zFzZ9am"
      },
      "source": [
        "# Information pertaining to the given corpus."
      ]
    },
    {
      "cell_type": "code",
      "metadata": {
        "id": "K4k1VmzQpq-E"
      },
      "source": [
        "vocabulary=set()  #entire vocabulary by taking the union over the partitons. \n",
        "os.chdir(save_location)\n",
        "for m in range(k):\n",
        "  with open(\"vocab-\"+str(m), \"rb\") as f:\n",
        "    \n",
        "     vocab=pickle.load(f)\n",
        "         \n",
        "     \n",
        "  vocabulary=vocabulary.union(vocab)"
      ],
      "execution_count": null,
      "outputs": []
    },
    {
      "cell_type": "code",
      "metadata": {
        "colab": {
          "base_uri": "https://localhost:8080/"
        },
        "id": "gN2_VC-aaGUp",
        "outputId": "2371be00-ebc6-4787-b856-8ef18c8a2258"
      },
      "source": [
        "#acciently took log of counts (heaps law) before doing the sum for the total word count, thats why np.exp is used\n",
        "print(sum(sentences),\"is the total number of sentences in the corpus\\n\")\n",
        "print(int(sum(np.exp(x))),\"is the total number of words in the corpus\\n\")\n",
        "print(len(vocabulary),\"is the total number of unique words in the corpus\\n\")"
      ],
      "execution_count": null,
      "outputs": [
        {
          "output_type": "stream",
          "text": [
            "8109605 is the total number of sentences in the corpus\n",
            "\n",
            "215835102 is the total number of words in the corpus\n",
            "\n",
            "801851 is the total number of unique words in the corpus\n",
            "\n"
          ],
          "name": "stdout"
        }
      ]
    }
  ]
}